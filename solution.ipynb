{
 "cells": [
  {
   "cell_type": "code",
   "execution_count": 21,
   "metadata": {
    "collapsed": false
   },
   "outputs": [
    {
     "name": "stdout",
     "output_type": "stream",
     "text": [
      "Populating the interactive namespace from numpy and matplotlib\n"
     ]
    },
    {
     "name": "stderr",
     "output_type": "stream",
     "text": [
      "WARNING: pylab import has clobbered these variables: ['vectorize', 'f', 'colors', 'product', 'clf']\n",
      "`%matplotlib` prevents importing * from pylab and numpy\n"
     ]
    }
   ],
   "source": [
    "%pylab inline"
   ]
  },
  {
   "cell_type": "code",
   "execution_count": 22,
   "metadata": {
    "collapsed": true
   },
   "outputs": [],
   "source": [
    "import warnings\n",
    "warnings.filterwarnings('ignore')"
   ]
  },
  {
   "cell_type": "markdown",
   "metadata": {},
   "source": [
    "# Read the data"
   ]
  },
  {
   "cell_type": "markdown",
   "metadata": {},
   "source": [
    "Function for reading ECG signals from a file"
   ]
  },
  {
   "cell_type": "code",
   "execution_count": 2,
   "metadata": {
    "collapsed": false
   },
   "outputs": [],
   "source": [
    "def read_X(filename):\n",
    "    X = list()\n",
    "    with open(filename) as f:\n",
    "        while True:\n",
    "            line = f.readline()\n",
    "            if not line:\n",
    "                break\n",
    "            amplitudes = [int(x) for x in line.strip().split(',')]\n",
    "            intervals = [int(x) for x in f.readline().strip().split(',')]\n",
    "            \n",
    "            f.readline() # skip an empty line\n",
    "            X.append((amplitudes, intervals))\n",
    "    return X"
   ]
  },
  {
   "cell_type": "markdown",
   "metadata": {},
   "source": [
    "Read ECG signals of the train and test set"
   ]
  },
  {
   "cell_type": "code",
   "execution_count": 3,
   "metadata": {
    "collapsed": false
   },
   "outputs": [
    {
     "name": "stdout",
     "output_type": "stream",
     "text": [
      "900 903\n"
     ]
    }
   ],
   "source": [
    "X_train_ecg = read_X('X.train.csv')\n",
    "X_test_ecg = read_X('X.test.csv')\n",
    "print(len(X_train_ecg), len(X_test_ecg))"
   ]
  },
  {
   "cell_type": "markdown",
   "metadata": {},
   "source": [
    "Read labels of the train set"
   ]
  },
  {
   "cell_type": "code",
   "execution_count": 4,
   "metadata": {
    "collapsed": false
   },
   "outputs": [
    {
     "name": "stdout",
     "output_type": "stream",
     "text": [
      "900\n"
     ]
    }
   ],
   "source": [
    "y_train = list()\n",
    "for line in open('y.train.csv'):\n",
    "    y_train.append(int(line))\n",
    "print(len(y_train))"
   ]
  },
  {
   "cell_type": "markdown",
   "metadata": {},
   "source": [
    "# Create trigram representation"
   ]
  },
  {
   "cell_type": "markdown",
   "metadata": {},
   "source": [
    "Function for discretization of the ECG signals into 6 values (6 letters)"
   ]
  },
  {
   "cell_type": "code",
   "execution_count": 5,
   "metadata": {
    "collapsed": false
   },
   "outputs": [],
   "source": [
    "def discretize(X):\n",
    "    discrete = list()\n",
    "    for amps, ints in X:\n",
    "        amps = array(amps).astype(float)\n",
    "        ints = array(ints).astype(float)\n",
    "        alphas = arctan(amps / ints)\n",
    "\n",
    "        amps = diff(amps)\n",
    "        ints = diff(ints)\n",
    "        alphas = diff(alphas)\n",
    "\n",
    "        s = list()\n",
    "        for ind, r, t, a in zip(range(600), amps, ints, alphas):\n",
    "            c = 'x'\n",
    "            if r > 0 and t > 0 and a > 0:\n",
    "                c = 'a'\n",
    "            if r <= 0 and t <= 0 and a > 0:\n",
    "                c = 'b'\n",
    "            if r > 0 and t <= 0 and a > 0:\n",
    "                c = 'c'\n",
    "            if r <= 0 and t > 0 and a <= 0:\n",
    "                c = 'd'\n",
    "            if r > 0 and t > 0 and a <= 0:\n",
    "                c = 'e'\n",
    "            if r <= 0 and t <= 0 and a <= 0:\n",
    "                c = 'f'\n",
    "            if c == 'x':\n",
    "                print('Very strange!!!', ind, r, t, a)\n",
    "            s.append(c)\n",
    "\n",
    "        discrete.append(s)\n",
    "    return discrete"
   ]
  },
  {
   "cell_type": "markdown",
   "metadata": {},
   "source": [
    "Apply it to our data. RuntimeWarning is fine, because of zeros in intervals. "
   ]
  },
  {
   "cell_type": "code",
   "execution_count": 6,
   "metadata": {
    "collapsed": false
   },
   "outputs": [
    {
     "name": "stdout",
     "output_type": "stream",
     "text": [
      "900 903\n"
     ]
    },
    {
     "name": "stderr",
     "output_type": "stream",
     "text": [
      "/home/alexey/anaconda3/lib/python3.4/site-packages/IPython/kernel/__main__.py:6: RuntimeWarning: divide by zero encountered in true_divide\n"
     ]
    }
   ],
   "source": [
    "X_train_discrete = discretize(X_train_ecg)\n",
    "X_test_discrete = discretize(X_test_ecg)\n",
    "print(len(X_train_discrete), len(X_test_discrete))"
   ]
  },
  {
   "cell_type": "markdown",
   "metadata": {},
   "source": [
    "Function for counting trigrams and saving it in the numpy array format"
   ]
  },
  {
   "cell_type": "code",
   "execution_count": 7,
   "metadata": {
    "collapsed": false
   },
   "outputs": [],
   "source": [
    "from collections import defaultdict\n",
    "from itertools import product\n",
    "\n",
    "def vectorize(discrete):\n",
    "    vectorized = list()\n",
    "    for element in discrete:\n",
    "        current = defaultdict(int)\n",
    "        for j in range(597):\n",
    "            current[tuple(element[j:j+3])] += 1\n",
    "\n",
    "        vect = list()\n",
    "        for a, b, c in product('abcdef', 'abcdef', 'abcdef'):\n",
    "            vect.append(current[(a, b, c)])\n",
    "        vectorized.append(vect)\n",
    "    return array(vectorized).astype(float)"
   ]
  },
  {
   "cell_type": "markdown",
   "metadata": {},
   "source": [
    "Create final train and test matrices"
   ]
  },
  {
   "cell_type": "code",
   "execution_count": 8,
   "metadata": {
    "collapsed": false
   },
   "outputs": [
    {
     "name": "stdout",
     "output_type": "stream",
     "text": [
      "(900, 216) (903, 216)\n"
     ]
    }
   ],
   "source": [
    "X_train = vectorize(X_train_discrete)\n",
    "X_test = vectorize(X_test_discrete)\n",
    "print(X_train.shape, X_test.shape)"
   ]
  },
  {
   "cell_type": "markdown",
   "metadata": {},
   "source": [
    "# Machine learning"
   ]
  },
  {
   "cell_type": "markdown",
   "metadata": {},
   "source": [
    "Use 5-fold crossvalidation for finding optimal K in KNN"
   ]
  },
  {
   "cell_type": "code",
   "execution_count": 9,
   "metadata": {
    "collapsed": false
   },
   "outputs": [
    {
     "name": "stdout",
     "output_type": "stream",
     "text": [
      "0.956093044733\n",
      "KNeighborsClassifier(algorithm='auto', leaf_size=30, metric='minkowski',\n",
      "           metric_params=None, n_jobs=1, n_neighbors=36, p=2,\n",
      "           weights='uniform')\n"
     ]
    }
   ],
   "source": [
    "from sklearn.grid_search import GridSearchCV\n",
    "from sklearn.neighbors import KNeighborsClassifier as KNN\n",
    "from sklearn.metrics import roc_auc_score\n",
    "\n",
    "params = {'n_neighbors': arange(1, 200, 5)}\n",
    "grid_searcher = GridSearchCV(KNN(),\\\n",
    "                             params, cv=5, scoring='roc_auc', n_jobs=3)\n",
    "grid_searcher.fit(X_train, y_train)\n",
    "\n",
    "print(grid_searcher.best_score_)\n",
    "print(grid_searcher.best_estimator_)"
   ]
  },
  {
   "cell_type": "markdown",
   "metadata": {},
   "source": [
    "Function for plotting the results"
   ]
  },
  {
   "cell_type": "code",
   "execution_count": 10,
   "metadata": {
    "collapsed": false
   },
   "outputs": [],
   "source": [
    "def plot_quality(grid_searcher, param_name):\n",
    "    means = []\n",
    "    stds = []\n",
    "    for elem in grid_searcher.grid_scores_:\n",
    "        means.append(mean(elem.cv_validation_scores))\n",
    "        stds.append(sqrt(var(elem.cv_validation_scores)))\n",
    "    means = array(means)\n",
    "    stds = array(stds)\n",
    "    \n",
    "    params = grid_searcher.param_grid\n",
    "    \n",
    "    figure(figsize=(8, 6))\n",
    "    plot(params[param_name], means)\n",
    "    fill_between(params[param_name], \\\n",
    "                 means + stds, means - stds, alpha = 0.3, facecolor='blue')\n",
    "    xlabel(param_name)\n",
    "    ylabel('AUC')"
   ]
  },
  {
   "cell_type": "markdown",
   "metadata": {},
   "source": [
    "Plot results"
   ]
  },
  {
   "cell_type": "code",
   "execution_count": 11,
   "metadata": {
    "collapsed": false
   },
   "outputs": [
    {
     "name": "stderr",
     "output_type": "stream",
     "text": [
      "/home/alexey/anaconda3/lib/python3.4/site-packages/matplotlib/collections.py:590: FutureWarning: elementwise comparison failed; returning scalar instead, but in the future will perform elementwise comparison\n",
      "  if self._edgecolors == str('face'):\n"
     ]
    },
    {
     "data": {
      "image/png": "[encoded data removed]",
      "text/plain": [
       "<matplotlib.figure.Figure at 0x7fab8cf22080>"
      ]
     },
     "metadata": {},
     "output_type": "display_data"
    }
   ],
   "source": [
    "plot_quality(grid_searcher, 'n_neighbors')"
   ]
  },
  {
   "cell_type": "markdown",
   "metadata": {},
   "source": [
    "Save the results in the proper format"
   ]
  },
  {
   "cell_type": "code",
   "execution_count": 12,
   "metadata": {
    "collapsed": false
   },
   "outputs": [],
   "source": [
    "clf = grid_searcher.best_estimator_.fit(X_train, y_train)\n",
    "results = clf.predict_proba(X_test)[:, 1]\n",
    "f = open('y.test.csv', 'w')\n",
    "print('Id,Prediction', file=f)\n",
    "for i, result in enumerate(results):\n",
    "    print(str(i+1) + ',' + str(result), file=f)\n",
    "f.close()"
   ]
  },
  {
   "cell_type": "markdown",
   "metadata": {},
   "source": [
    "# My code"
   ]
  },
  {
   "cell_type": "markdown",
   "metadata": {},
   "source": [
    "Отмасштабируем данные"
   ]
  },
  {
   "cell_type": "code",
   "execution_count": 13,
   "metadata": {
    "collapsed": true
   },
   "outputs": [],
   "source": [
    "from sklearn.preprocessing import scale\n",
    "X_train_scaled = scale(X_train, with_mean = True, with_std=True, axis=0)\n",
    "X_test_scaled = scale(X_test, with_mean = True, with_std=True, axis=0)"
   ]
  },
  {
   "cell_type": "markdown",
   "metadata": {},
   "source": [
    "Визуализируем данные проекцией векторов на плоскость"
   ]
  },
  {
   "cell_type": "code",
   "execution_count": 14,
   "metadata": {
    "collapsed": true
   },
   "outputs": [],
   "source": [
    "c = [\"blue\", \"red\"]\n",
    "colors = [c[y_train[i]] for i in range(len(y_train))]"
   ]
  },
  {
   "cell_type": "code",
   "execution_count": 15,
   "metadata": {
    "collapsed": false,
    "scrolled": false
   },
   "outputs": [
    {
     "name": "stderr",
     "output_type": "stream",
     "text": [
      "/home/alexey/anaconda3/lib/python3.4/site-packages/matplotlib/collections.py:590: FutureWarning: elementwise comparison failed; returning scalar instead, but in the future will perform elementwise comparison\n",
      "  if self._edgecolors == str('face'):\n"
     ]
    },
    {
     "data": {
      "image/png": "[encoded data removed]",
      "text/plain": [
       "<matplotlib.figure.Figure at 0x7fab8c4191d0>"
      ]
     },
     "metadata": {},
     "output_type": "display_data"
    }
   ],
   "source": [
    "figure(figsize=(14,7))\n",
    "U = X_train_scaled\n",
    "\n",
    "for i in range(2):\n",
    "    first = np.random.randint(6 * 6 * 6)\n",
    "    second = np.random.randint(6 * 6 * 6)    \n",
    "    subplot(1, 2, 1 + i), scatter(U[:, first], U[:, second], c=colors), \\\n",
    "        grid(True), xlabel('#{}'.format(first)), ylabel('#{}'.format(second))"
   ]
  },
  {
   "cell_type": "markdown",
   "metadata": {},
   "source": [
    "В некоторых координатах цвета неплохо разделяются"
   ]
  },
  {
   "cell_type": "markdown",
   "metadata": {},
   "source": [
    "Попробуем использовать взвешенную метрику Минковского. Веса определим как качество классификации на одном признаке."
   ]
  },
  {
   "cell_type": "code",
   "execution_count": 16,
   "metadata": {
    "collapsed": false
   },
   "outputs": [
    {
     "name": "stdout",
     "output_type": "stream",
     "text": [
      "[ 0.69689902  0.62280198  0.74945591  0.73716736  0.57884396  0.7613221\n",
      "  0.56826018  0.64342486  0.51354378  0.67677982  0.56343745  0.67284651\n",
      "  0.73162657  0.55460497  0.75398922  0.84539526  0.56206068  0.87558654\n",
      "  0.78150513  0.68400054  0.74523014  0.62665168  0.51156031  0.64728717\n",
      "  0.56252016  0.70203385  0.55968733  0.69263822  0.6508678   0.61392139\n",
      "  0.81466335  0.51991813  0.76314944  0.8720484   0.66200631  0.78128206\n",
      "  0.56165267  0.55077278  0.53891297  0.71454487  0.8259565   0.58651275\n",
      "  0.75161741  0.72475865  0.7672072   0.68210097  0.78306072  0.63192675\n",
      "  0.68334622  0.67515165  0.62121465  0.73914585  0.86617062  0.52560719\n",
      "  0.6004084   0.62005497  0.56254012  0.50430786  0.64729495  0.58517452\n",
      "  0.60427998  0.66672473  0.62387269  0.80485958  0.80693025  0.64107849\n",
      "  0.61716829  0.63819103  0.51493693  0.55973818  0.61636695  0.58389837\n",
      "  0.6699954   0.5529239   0.73962986  0.59469852  0.64387704  0.8166061\n",
      "  0.51830017  0.69947688  0.62401654  0.50888406  0.67865187  0.53266446\n",
      "  0.65499475  0.55110619  0.64370028  0.64400387  0.68318084  0.83262064\n",
      "  0.7919583   0.63043559  0.70836698  0.55727729  0.61327665  0.7610178\n",
      "  0.5556174   0.74349381  0.57080628  0.83821273  0.83137911  0.66540504\n",
      "  0.85694519  0.5449746   0.79679976  0.83466903  0.57778685  0.80938641\n",
      "  0.83388868  0.57522906  0.82124398  0.78041766  0.58532767  0.83252462\n",
      "  0.69897113  0.78458785  0.79766129  0.51615782  0.74593095  0.5256234\n",
      "  0.74593537  0.5685675   0.67525098  0.65069182  0.69908023  0.83658434\n",
      "  0.8096485   0.72727039  0.57658217  0.60947075  0.53135926  0.63310336\n",
      "  0.5994068   0.71652523  0.5498564   0.58194131  0.65685207  0.54286908\n",
      "  0.76221859  0.69913823  0.60587162  0.74244856  0.57304522  0.68392606\n",
      "  0.5450602   0.62216071  0.57989863  0.52500976  0.54036112  0.54577703\n",
      "  0.61970275  0.8405489   0.79869801  0.60975939  0.67895922  0.66185838\n",
      "  0.56216723  0.70044083  0.5390157   0.52780545  0.5677591   0.55476659\n",
      "  0.55447037  0.88557501  0.76126684  0.68494377  0.619462    0.72633031\n",
      "  0.56328217  0.82954448  0.67575391  0.76351632  0.66928311  0.784802\n",
      "  0.59873617  0.81830381  0.70885976  0.5798625   0.51797065  0.55002376\n",
      "  0.76538026  0.70051746  0.89098438  0.74882246  0.55118243  0.82499382\n",
      "  0.63454983  0.64635148  0.70186258  0.56622483  0.69568023  0.51685265\n",
      "  0.66639689  0.57179765  0.73617758  0.68514075  0.72673803  0.82673462\n",
      "  0.87415837  0.55590056  0.84376854  0.71487683  0.5951767   0.75593313\n",
      "  0.64028375  0.50903964  0.64993007  0.51929372  0.61087087  0.58393167\n",
      "  0.77919592  0.56326994  0.73270023  0.75439558  0.58385441  0.70218186]\n"
     ]
    }
   ],
   "source": [
    "def index_weight(index):\n",
    "    params = {'n_neighbors': arange(1, 200, 5)}\n",
    "    grid_searcher = GridSearchCV(KNN(weights='uniform', metric='minkowski', p=1),\\\n",
    "                             params, cv=5, scoring='roc_auc', n_jobs=3)\n",
    "    grid_searcher.fit(X_train_scaled[:, [index]], y_train)\n",
    "    return grid_searcher.best_score_\n",
    "\n",
    "learned_weights = np.array([index_weight(index) for index in range(6*6*6)])\n",
    "\n",
    "print(learned_weights)"
   ]
  },
  {
   "cell_type": "markdown",
   "metadata": {},
   "source": [
    "Сдвинем все веса, обнулим слишком малые и немного растянем."
   ]
  },
  {
   "cell_type": "code",
   "execution_count": 17,
   "metadata": {
    "collapsed": false
   },
   "outputs": [],
   "source": [
    "treshold = 0.6\n",
    "metric_weights = pow(learned_weights - treshold, 2)\n",
    "metric_weights[learned_weights < treshold] = 0"
   ]
  },
  {
   "cell_type": "code",
   "execution_count": 24,
   "metadata": {
    "collapsed": false
   },
   "outputs": [
    {
     "name": "stdout",
     "output_type": "stream",
     "text": [
      "0.965073539629\n",
      "KNeighborsClassifier(algorithm='auto', leaf_size=30, metric='wminkowski',\n",
      "           metric_params={'w': array([ 0.00939,  0.00052, ...,  0.     ,  0.01044])},\n",
      "           n_jobs=1, n_neighbors=21, p=1, weights='distance')\n"
     ]
    }
   ],
   "source": [
    "params = {'n_neighbors': arange(1, 50, )}\n",
    "knn_grid_searcher = GridSearchCV(KNN(weights='distance', metric='wminkowski', p=1, w=metric_weights),\\\n",
    "                             params, cv=5, scoring='roc_auc', n_jobs=3)\n",
    "knn_grid_searcher.fit(X_train_scaled, y_train)\n",
    "\n",
    "print(knn_grid_searcher.best_score_)\n",
    "print(knn_grid_searcher.best_estimator_)"
   ]
  },
  {
   "cell_type": "code",
   "execution_count": 25,
   "metadata": {
    "collapsed": false,
    "scrolled": false
   },
   "outputs": [
    {
     "data": {
      "image/png": "[encoded data removed]",
      "text/plain": [
       "<matplotlib.figure.Figure at 0x7fab8c3878d0>"
      ]
     },
     "metadata": {},
     "output_type": "display_data"
    }
   ],
   "source": [
    "plot_quality(knn_grid_searcher, 'n_neighbors')"
   ]
  },
  {
   "cell_type": "markdown",
   "metadata": {},
   "source": [
    "Результат: **kNN** даёт **0.96507**"
   ]
  },
  {
   "cell_type": "markdown",
   "metadata": {},
   "source": [
    "Попробуем **SVM**"
   ]
  },
  {
   "cell_type": "code",
   "execution_count": 87,
   "metadata": {
    "collapsed": true
   },
   "outputs": [],
   "source": [
    "from sklearn.svm import SVC"
   ]
  },
  {
   "cell_type": "code",
   "execution_count": 92,
   "metadata": {
    "collapsed": true
   },
   "outputs": [],
   "source": [
    "def scaled_learn(clf, params):\n",
    "    grid_searcher = GridSearchCV(clf,\\\n",
    "                             params, cv=5, scoring='roc_auc', n_jobs=3)\n",
    "    grid_searcher.fit(X_train_scaled, y_train)\n",
    "\n",
    "    print(grid_searcher.best_score_)\n",
    "    print(grid_searcher.best_estimator_)\n",
    "    \n",
    "    return grid_searcher"
   ]
  },
  {
   "cell_type": "code",
   "execution_count": 100,
   "metadata": {
    "collapsed": false
   },
   "outputs": [
    {
     "name": "stdout",
     "output_type": "stream",
     "text": [
      "0.965416559243\n",
      "SVC(C=1, cache_size=200, class_weight='balanced', coef0=0.0,\n",
      "  decision_function_shape=None, degree=3, gamma='auto', kernel='rbf',\n",
      "  max_iter=-1, probability=True, random_state=None, shrinking=True,\n",
      "  tol=0.001, verbose=False)\n",
      "CPU times: user 783 ms, sys: 27.6 ms, total: 811 ms\n",
      "Wall time: 5.85 s\n"
     ]
    }
   ],
   "source": [
    "%%time\n",
    "\n",
    "params = {'C' : [0.3, 0.7, 1, 2, 5]}\n",
    "svc_grid_searcher = scaled_learn(SVC(probability=True, class_weight='balanced', kernel='rbf'), params)"
   ]
  },
  {
   "cell_type": "markdown",
   "metadata": {},
   "source": [
    "Смешаем **SVC** и **kNN**"
   ]
  },
  {
   "cell_type": "code",
   "execution_count": 65,
   "metadata": {
    "collapsed": true
   },
   "outputs": [],
   "source": [
    "def plot_quality_mix(grid_searcher, param_name):\n",
    "    means = []\n",
    "    stds = []\n",
    "    for elem in grid_searcher.grid_scores_:\n",
    "        means.append(mean(elem.cv_validation_scores))\n",
    "        stds.append(sqrt(var(elem.cv_validation_scores)))\n",
    "    means = array(means)\n",
    "    stds = array(stds)\n",
    "    \n",
    "    params = grid_searcher.param_grid\n",
    "    \n",
    "    figure(figsize=(8, 6))\n",
    "    x_axis = array(params[param_name])\n",
    "    x_axis = x_axis[:, 0]\n",
    "    plot(x_axis, means)\n",
    "    fill_between(x_axis, \\\n",
    "                 means + stds, means - stds, alpha = 0.3, facecolor='blue')\n",
    "    xlabel(param_name)\n",
    "    ylabel('AUC')"
   ]
  },
  {
   "cell_type": "code",
   "execution_count": 66,
   "metadata": {
    "collapsed": true
   },
   "outputs": [],
   "source": [
    "from sklearn.ensemble import VotingClassifier as VC"
   ]
  },
  {
   "cell_type": "code",
   "execution_count": 101,
   "metadata": {
    "collapsed": false
   },
   "outputs": [],
   "source": [
    "svc_est = svc_grid_searcher.best_estimator_\n",
    "knn_est = knn_grid_searcher.best_estimator_\n",
    "\n",
    "mix_clf = VC(estimators=[('svc', svc_est), ('knn', knn_est)], voting='soft')"
   ]
  },
  {
   "cell_type": "code",
   "execution_count": 102,
   "metadata": {
    "collapsed": false
   },
   "outputs": [
    {
     "name": "stdout",
     "output_type": "stream",
     "text": [
      "0.968083741115\n",
      "VotingClassifier(estimators=[('svc', SVC(C=1, cache_size=200, class_weight='balanced', coef0=0.0,\n",
      "  decision_function_shape=None, degree=3, gamma='auto', kernel='rbf',\n",
      "  max_iter=-1, probability=True, random_state=None, shrinking=True,\n",
      "  tol=0.001, verbose=False)), ('knn', KNeighborsClassifier(algorithm='auto', leaf_size=30, metric='wminkowski',\n",
      "           metric_params={'w': array([ 0.00939,  0.00052, ...,  0.     ,  0.01044])},\n",
      "           n_jobs=1, n_neighbors=21, p=1, weights='distance'))],\n",
      "         voting='soft', weights=[0.60999999999999999, 0.39000000000000001])\n",
      "CPU times: user 2.07 s, sys: 27.9 ms, total: 2.1 s\n",
      "Wall time: 1min 6s\n"
     ]
    }
   ],
   "source": [
    "%%time\n",
    "\n",
    "params = {'weights': [[alpha, 1 - alpha] for alpha in arange(0.01, 1.0, 0.03)]}\n",
    "mix_searcher = scaled_learn(mix_clf, params)"
   ]
  },
  {
   "cell_type": "code",
   "execution_count": 103,
   "metadata": {
    "collapsed": false
   },
   "outputs": [
    {
     "data": {
      "image/png": "[encoded data removed]",
      "text/plain": [
       "<matplotlib.figure.Figure at 0x7fab8c120e80>"
      ]
     },
     "metadata": {},
     "output_type": "display_data"
    }
   ],
   "source": [
    "plot_quality_mix(mix_searcher, 'weights')"
   ]
  },
  {
   "cell_type": "markdown",
   "metadata": {},
   "source": [
    "Не ахти выигрыш, но тоже неплохо. Погрешность большая."
   ]
  },
  {
   "cell_type": "code",
   "execution_count": 104,
   "metadata": {
    "collapsed": false
   },
   "outputs": [],
   "source": [
    "clf = mix_searcher.best_estimator_.fit(X_train_scaled, y_train)\n",
    "\n",
    "results = clf.predict_proba(X_test_scaled)[:, 1]\n",
    "f = open('y.test.csv', 'w')\n",
    "print('Id,Prediction', file=f)\n",
    "for i, result in enumerate(results):\n",
    "    print(str(i+1) + ',' + str(result), file=f)\n",
    "f.close()"
   ]
  },
  {
   "cell_type": "code",
   "execution_count": null,
   "metadata": {
    "collapsed": true
   },
   "outputs": [],
   "source": []
  }
 ],
 "metadata": {
  "kernelspec": {
   "display_name": "Python 3",
   "language": "python",
   "name": "python3"
  },
  "language_info": {
   "codemirror_mode": {
    "name": "ipython",
    "version": 3
   },
   "file_extension": ".py",
   "mimetype": "text/x-python",
   "name": "python",
   "nbconvert_exporter": "python",
   "pygments_lexer": "ipython3",
   "version": "3.4.4"
  }
 },
 "nbformat": 4,
 "nbformat_minor": 0
}
