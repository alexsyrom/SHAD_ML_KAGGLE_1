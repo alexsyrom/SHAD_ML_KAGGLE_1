{
 "cells": [
  {
   "cell_type": "code",
   "execution_count": 1,
   "metadata": {
    "collapsed": false
   },
   "outputs": [
    {
     "name": "stdout",
     "output_type": "stream",
     "text": [
      "Populating the interactive namespace from numpy and matplotlib\n"
     ]
    }
   ],
   "source": [
    "%pylab inline"
   ]
  },
  {
   "cell_type": "markdown",
   "metadata": {},
   "source": [
    "# Read the data"
   ]
  },
  {
   "cell_type": "markdown",
   "metadata": {},
   "source": [
    "Function for reading ECG signals from a file"
   ]
  },
  {
   "cell_type": "code",
   "execution_count": 2,
   "metadata": {
    "collapsed": false
   },
   "outputs": [],
   "source": [
    "def read_X(filename):\n",
    "    X = list()\n",
    "    with open(filename) as f:\n",
    "        while True:\n",
    "            line = f.readline()\n",
    "            if not line:\n",
    "                break\n",
    "            amplitudes = [int(x) for x in line.strip().split(',')]\n",
    "            intervals = [int(x) for x in f.readline().strip().split(',')]\n",
    "            \n",
    "            f.readline() # skip an empty line\n",
    "            X.append((amplitudes, intervals))\n",
    "    return X"
   ]
  },
  {
   "cell_type": "markdown",
   "metadata": {},
   "source": [
    "Read ECG signals of the train and test set"
   ]
  },
  {
   "cell_type": "code",
   "execution_count": 3,
   "metadata": {
    "collapsed": false
   },
   "outputs": [
    {
     "name": "stdout",
     "output_type": "stream",
     "text": [
      "900 903\n"
     ]
    }
   ],
   "source": [
    "X_train_ecg = read_X('X.train.csv')\n",
    "X_test_ecg = read_X('X.test.csv')\n",
    "print(len(X_train_ecg), len(X_test_ecg))"
   ]
  },
  {
   "cell_type": "markdown",
   "metadata": {},
   "source": [
    "Read labels of the train set"
   ]
  },
  {
   "cell_type": "code",
   "execution_count": 4,
   "metadata": {
    "collapsed": false
   },
   "outputs": [
    {
     "name": "stdout",
     "output_type": "stream",
     "text": [
      "900\n"
     ]
    }
   ],
   "source": [
    "y_train = list()\n",
    "for line in open('y.train.csv'):\n",
    "    y_train.append(int(line))\n",
    "print(len(y_train))"
   ]
  },
  {
   "cell_type": "markdown",
   "metadata": {},
   "source": [
    "# Create trigram representation"
   ]
  },
  {
   "cell_type": "markdown",
   "metadata": {},
   "source": [
    "Function for discretization of the ECG signals into 6 values (6 letters)"
   ]
  },
  {
   "cell_type": "code",
   "execution_count": 6,
   "metadata": {
    "collapsed": false
   },
   "outputs": [],
   "source": [
    "def discretize(X):\n",
    "    discrete = list()\n",
    "    for amps, ints in X:\n",
    "        amps = array(amps).astype(float)\n",
    "        ints = array(ints).astype(float)\n",
    "        alphas = arctan(amps / ints)\n",
    "\n",
    "        amps = diff(amps)\n",
    "        ints = diff(ints)\n",
    "        alphas = diff(alphas)\n",
    "\n",
    "        s = list()\n",
    "        for ind, r, t, a in zip(range(600), amps, ints, alphas):\n",
    "            c = 'x'\n",
    "            if r > 0 and t > 0 and a > 0:\n",
    "                c = 'a'\n",
    "            if r <= 0 and t <= 0 and a > 0:\n",
    "                c = 'b'\n",
    "            if r > 0 and t <= 0 and a > 0:\n",
    "                c = 'c'\n",
    "            if r <= 0 and t > 0 and a <= 0:\n",
    "                c = 'd'\n",
    "            if r > 0 and t > 0 and a <= 0:\n",
    "                c = 'e'\n",
    "            if r <= 0 and t <= 0 and a <= 0:\n",
    "                c = 'f'\n",
    "            if c == 'x':\n",
    "                print('Very strange!!!', ind, r, t, a)\n",
    "            s.append(c)\n",
    "\n",
    "        discrete.append(s)\n",
    "    return discrete"
   ]
  },
  {
   "cell_type": "markdown",
   "metadata": {},
   "source": [
    "Apply it to our data. RuntimeWarning is fine, because of zeros in intervals. "
   ]
  },
  {
   "cell_type": "code",
   "execution_count": 7,
   "metadata": {
    "collapsed": false
   },
   "outputs": [
    {
     "name": "stdout",
     "output_type": "stream",
     "text": [
      "900 903\n"
     ]
    },
    {
     "name": "stderr",
     "output_type": "stream",
     "text": [
      "/home/alexey/anaconda3/lib/python3.4/site-packages/IPython/kernel/__main__.py:6: RuntimeWarning: divide by zero encountered in true_divide\n"
     ]
    }
   ],
   "source": [
    "X_train_discrete = discretize(X_train_ecg)\n",
    "X_test_discrete = discretize(X_test_ecg)\n",
    "print(len(X_train_discrete), len(X_test_discrete))"
   ]
  },
  {
   "cell_type": "markdown",
   "metadata": {},
   "source": [
    "Function for counting trigrams and saving it in the numpy array format"
   ]
  },
  {
   "cell_type": "code",
   "execution_count": 8,
   "metadata": {
    "collapsed": false
   },
   "outputs": [],
   "source": [
    "from collections import defaultdict\n",
    "from itertools import product\n",
    "\n",
    "def vectorize(discrete):\n",
    "    vectorized = list()\n",
    "    for element in discrete:\n",
    "        current = defaultdict(int)\n",
    "        for j in range(597):\n",
    "            current[tuple(element[j:j+3])] += 1\n",
    "\n",
    "        vect = list()\n",
    "        for a, b, c in product('abcdef', 'abcdef', 'abcdef'):\n",
    "            vect.append(current[(a, b, c)])\n",
    "        vectorized.append(vect)\n",
    "    return array(vectorized).astype(float)"
   ]
  },
  {
   "cell_type": "markdown",
   "metadata": {},
   "source": [
    "Create final train and test matrices"
   ]
  },
  {
   "cell_type": "code",
   "execution_count": 10,
   "metadata": {
    "collapsed": false
   },
   "outputs": [
    {
     "name": "stdout",
     "output_type": "stream",
     "text": [
      "(900, 216) (903, 216)\n"
     ]
    }
   ],
   "source": [
    "X_train = vectorize(X_train_discrete)\n",
    "X_test = vectorize(X_test_discrete)\n",
    "print(X_train.shape, X_test.shape)"
   ]
  },
  {
   "cell_type": "markdown",
   "metadata": {},
   "source": [
    "# Machine learning"
   ]
  },
  {
   "cell_type": "markdown",
   "metadata": {},
   "source": [
    "Use 5-fold crossvalidation for finding optimal K in KNN"
   ]
  },
  {
   "cell_type": "code",
   "execution_count": 11,
   "metadata": {
    "collapsed": false
   },
   "outputs": [
    {
     "name": "stdout",
     "output_type": "stream",
     "text": [
      "0.956093044733\n",
      "KNeighborsClassifier(algorithm='auto', leaf_size=30, metric='minkowski',\n",
      "           metric_params=None, n_neighbors=36, p=2, weights='uniform')\n"
     ]
    }
   ],
   "source": [
    "from sklearn.grid_search import GridSearchCV\n",
    "from sklearn.neighbors import KNeighborsClassifier as KNN\n",
    "from sklearn.metrics import roc_auc_score\n",
    "\n",
    "params = {'n_neighbors': arange(1, 200, 5)}\n",
    "grid_searcher = GridSearchCV(KNN(),\\\n",
    "                             params, cv=5, scoring='roc_auc', n_jobs=3)\n",
    "grid_searcher.fit(X_train, y_train)\n",
    "\n",
    "print(grid_searcher.best_score_)\n",
    "print(grid_searcher.best_estimator_)"
   ]
  },
  {
   "cell_type": "markdown",
   "metadata": {},
   "source": [
    "Function for plotting the results"
   ]
  },
  {
   "cell_type": "code",
   "execution_count": 12,
   "metadata": {
    "collapsed": false
   },
   "outputs": [],
   "source": [
    "def plot_quality(grid_searcher, param_name):\n",
    "    means = []\n",
    "    stds = []\n",
    "    for elem in grid_searcher.grid_scores_:\n",
    "        means.append(mean(elem.cv_validation_scores))\n",
    "        stds.append(sqrt(var(elem.cv_validation_scores)))\n",
    "    means = array(means)\n",
    "    stds = array(stds)\n",
    "    \n",
    "    params = grid_searcher.param_grid\n",
    "    \n",
    "    figure(figsize=(8, 6))\n",
    "    plot(params[param_name], means)\n",
    "    fill_between(params[param_name], \\\n",
    "                 means + stds, means - stds, alpha = 0.3, facecolor='blue')\n",
    "    xlabel(param_name)\n",
    "    ylabel('AUC')"
   ]
  },
  {
   "cell_type": "markdown",
   "metadata": {},
   "source": [
    "Plot results"
   ]
  },
  {
   "cell_type": "code",
   "execution_count": 13,
   "metadata": {
    "collapsed": false
   },
   "outputs": [
    {
     "name": "stderr",
     "output_type": "stream",
     "text": [
      "/home/alexey/anaconda3/lib/python3.4/site-packages/matplotlib/collections.py:590: FutureWarning: elementwise comparison failed; returning scalar instead, but in the future will perform elementwise comparison\n",
      "  if self._edgecolors == str('face'):\n"
     ]
    },
    {
     "data": {
      "image/png": "[encoded data removed]",
      "text/plain": [
       "<matplotlib.figure.Figure at 0x7f6edeba3470>"
      ]
     },
     "metadata": {},
     "output_type": "display_data"
    }
   ],
   "source": [
    "plot_quality(grid_searcher, 'n_neighbors')"
   ]
  },
  {
   "cell_type": "markdown",
   "metadata": {},
   "source": [
    "Save the results in the proper format"
   ]
  },
  {
   "cell_type": "code",
   "execution_count": 16,
   "metadata": {
    "collapsed": false
   },
   "outputs": [],
   "source": [
    "clf = grid_searcher.best_estimator_.fit(X_train, y_train)\n",
    "results = clf.predict_proba(X_test)[:, 1]\n",
    "f = open('y.test.csv', 'w')\n",
    "print('Id,Prediction', file=f)\n",
    "for i, result in enumerate(results):\n",
    "    print(str(i+1) + ',' + str(result), file=f)\n",
    "f.close()"
   ]
  },
  {
   "cell_type": "code",
   "execution_count": null,
   "metadata": {
    "collapsed": true
   },
   "outputs": [],
   "source": []
  }
 ],
 "metadata": {
  "kernelspec": {
   "display_name": "Python 3",
   "language": "python",
   "name": "python3"
  },
  "language_info": {
   "codemirror_mode": {
    "name": "ipython",
    "version": 3
   },
   "file_extension": ".py",
   "mimetype": "text/x-python",
   "name": "python",
   "nbconvert_exporter": "python",
   "pygments_lexer": "ipython3",
   "version": "3.4.3"
  }
 },
 "nbformat": 4,
 "nbformat_minor": 0
}
