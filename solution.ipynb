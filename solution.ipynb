{
 "cells": [
  {
   "cell_type": "code",
   "execution_count": 1,
   "metadata": {
    "collapsed": false
   },
   "outputs": [
    {
     "name": "stdout",
     "output_type": "stream",
     "text": [
      "Populating the interactive namespace from numpy and matplotlib\n"
     ]
    }
   ],
   "source": [
    "%pylab inline"
   ]
  },
  {
   "cell_type": "markdown",
   "metadata": {},
   "source": [
    "# Read the data"
   ]
  },
  {
   "cell_type": "markdown",
   "metadata": {},
   "source": [
    "Function for reading ECG signals from a file"
   ]
  },
  {
   "cell_type": "code",
   "execution_count": 2,
   "metadata": {
    "collapsed": false
   },
   "outputs": [],
   "source": [
    "def read_X(filename):\n",
    "    X = list()\n",
    "    with open(filename) as f:\n",
    "        while True:\n",
    "            line = f.readline()\n",
    "            if not line:\n",
    "                break\n",
    "            amplitudes = [int(x) for x in line.strip().split(',')]\n",
    "            intervals = [int(x) for x in f.readline().strip().split(',')]\n",
    "            \n",
    "            f.readline() # skip an empty line\n",
    "            X.append((amplitudes, intervals))\n",
    "    return X"
   ]
  },
  {
   "cell_type": "markdown",
   "metadata": {},
   "source": [
    "Read ECG signals of the train and test set"
   ]
  },
  {
   "cell_type": "code",
   "execution_count": 3,
   "metadata": {
    "collapsed": false
   },
   "outputs": [
    {
     "name": "stdout",
     "output_type": "stream",
     "text": [
      "900 903\n"
     ]
    }
   ],
   "source": [
    "X_train_ecg = read_X('X.train.csv')\n",
    "X_test_ecg = read_X('X.test.csv')\n",
    "print(len(X_train_ecg), len(X_test_ecg))"
   ]
  },
  {
   "cell_type": "markdown",
   "metadata": {},
   "source": [
    "Read labels of the train set"
   ]
  },
  {
   "cell_type": "code",
   "execution_count": 4,
   "metadata": {
    "collapsed": false
   },
   "outputs": [
    {
     "name": "stdout",
     "output_type": "stream",
     "text": [
      "900\n"
     ]
    }
   ],
   "source": [
    "y_train = list()\n",
    "for line in open('y.train.csv'):\n",
    "    y_train.append(int(line))\n",
    "print(len(y_train))"
   ]
  },
  {
   "cell_type": "markdown",
   "metadata": {},
   "source": [
    "# Create trigram representation"
   ]
  },
  {
   "cell_type": "markdown",
   "metadata": {},
   "source": [
    "Function for discretization of the ECG signals into 6 values (6 letters)"
   ]
  },
  {
   "cell_type": "code",
   "execution_count": 6,
   "metadata": {
    "collapsed": false
   },
   "outputs": [],
   "source": [
    "def discretize(X):\n",
    "    discrete = list()\n",
    "    for amps, ints in X:\n",
    "        amps = array(amps).astype(float)\n",
    "        ints = array(ints).astype(float)\n",
    "        alphas = arctan(amps / ints)\n",
    "\n",
    "        amps = diff(amps)\n",
    "        ints = diff(ints)\n",
    "        alphas = diff(alphas)\n",
    "\n",
    "        s = list()\n",
    "        for ind, r, t, a in zip(range(600), amps, ints, alphas):\n",
    "            c = 'x'\n",
    "            if r > 0 and t > 0 and a > 0:\n",
    "                c = 'a'\n",
    "            if r <= 0 and t <= 0 and a > 0:\n",
    "                c = 'b'\n",
    "            if r > 0 and t <= 0 and a > 0:\n",
    "                c = 'c'\n",
    "            if r <= 0 and t > 0 and a <= 0:\n",
    "                c = 'd'\n",
    "            if r > 0 and t > 0 and a <= 0:\n",
    "                c = 'e'\n",
    "            if r <= 0 and t <= 0 and a <= 0:\n",
    "                c = 'f'\n",
    "            if c == 'x':\n",
    "                print('Very strange!!!', ind, r, t, a)\n",
    "            s.append(c)\n",
    "\n",
    "        discrete.append(s)\n",
    "    return discrete"
   ]
  },
  {
   "cell_type": "markdown",
   "metadata": {},
   "source": [
    "Apply it to our data. RuntimeWarning is fine, because of zeros in intervals. "
   ]
  },
  {
   "cell_type": "code",
   "execution_count": 7,
   "metadata": {
    "collapsed": false
   },
   "outputs": [
    {
     "name": "stdout",
     "output_type": "stream",
     "text": [
      "900 903\n"
     ]
    },
    {
     "name": "stderr",
     "output_type": "stream",
     "text": [
      "/home/alexey/anaconda3/lib/python3.4/site-packages/IPython/kernel/__main__.py:6: RuntimeWarning: divide by zero encountered in true_divide\n"
     ]
    }
   ],
   "source": [
    "X_train_discrete = discretize(X_train_ecg)\n",
    "X_test_discrete = discretize(X_test_ecg)\n",
    "print(len(X_train_discrete), len(X_test_discrete))"
   ]
  },
  {
   "cell_type": "markdown",
   "metadata": {},
   "source": [
    "Function for counting trigrams and saving it in the numpy array format"
   ]
  },
  {
   "cell_type": "code",
   "execution_count": 8,
   "metadata": {
    "collapsed": false
   },
   "outputs": [],
   "source": [
    "from collections import defaultdict\n",
    "from itertools import product\n",
    "\n",
    "def vectorize(discrete):\n",
    "    vectorized = list()\n",
    "    for element in discrete:\n",
    "        current = defaultdict(int)\n",
    "        for j in range(597):\n",
    "            current[tuple(element[j:j+3])] += 1\n",
    "\n",
    "        vect = list()\n",
    "        for a, b, c in product('abcdef', 'abcdef', 'abcdef'):\n",
    "            vect.append(current[(a, b, c)])\n",
    "        vectorized.append(vect)\n",
    "    return array(vectorized).astype(float)"
   ]
  },
  {
   "cell_type": "markdown",
   "metadata": {},
   "source": [
    "Create final train and test matrices"
   ]
  },
  {
   "cell_type": "code",
   "execution_count": 10,
   "metadata": {
    "collapsed": false
   },
   "outputs": [
    {
     "name": "stdout",
     "output_type": "stream",
     "text": [
      "(900, 216) (903, 216)\n"
     ]
    }
   ],
   "source": [
    "X_train = vectorize(X_train_discrete)\n",
    "X_test = vectorize(X_test_discrete)\n",
    "print(X_train.shape, X_test.shape)"
   ]
  },
  {
   "cell_type": "markdown",
   "metadata": {},
   "source": [
    "# Machine learning"
   ]
  },
  {
   "cell_type": "markdown",
   "metadata": {},
   "source": [
    "Use 5-fold crossvalidation for finding optimal K in KNN"
   ]
  },
  {
   "cell_type": "code",
   "execution_count": 11,
   "metadata": {
    "collapsed": false
   },
   "outputs": [
    {
     "name": "stdout",
     "output_type": "stream",
     "text": [
      "0.956093044733\n",
      "KNeighborsClassifier(algorithm='auto', leaf_size=30, metric='minkowski',\n",
      "           metric_params=None, n_neighbors=36, p=2, weights='uniform')\n"
     ]
    }
   ],
   "source": [
    "from sklearn.grid_search import GridSearchCV\n",
    "from sklearn.neighbors import KNeighborsClassifier as KNN\n",
    "from sklearn.metrics import roc_auc_score\n",
    "\n",
    "params = {'n_neighbors': arange(1, 200, 5)}\n",
    "grid_searcher = GridSearchCV(KNN(),\\\n",
    "                             params, cv=5, scoring='roc_auc', n_jobs=3)\n",
    "grid_searcher.fit(X_train, y_train)\n",
    "\n",
    "print(grid_searcher.best_score_)\n",
    "print(grid_searcher.best_estimator_)"
   ]
  },
  {
   "cell_type": "markdown",
   "metadata": {},
   "source": [
    "Function for plotting the results"
   ]
  },
  {
   "cell_type": "code",
   "execution_count": 12,
   "metadata": {
    "collapsed": false
   },
   "outputs": [],
   "source": [
    "def plot_quality(grid_searcher, param_name):\n",
    "    means = []\n",
    "    stds = []\n",
    "    for elem in grid_searcher.grid_scores_:\n",
    "        means.append(mean(elem.cv_validation_scores))\n",
    "        stds.append(sqrt(var(elem.cv_validation_scores)))\n",
    "    means = array(means)\n",
    "    stds = array(stds)\n",
    "    \n",
    "    params = grid_searcher.param_grid\n",
    "    \n",
    "    figure(figsize=(8, 6))\n",
    "    plot(params[param_name], means)\n",
    "    fill_between(params[param_name], \\\n",
    "                 means + stds, means - stds, alpha = 0.3, facecolor='blue')\n",
    "    xlabel(param_name)\n",
    "    ylabel('AUC')"
   ]
  },
  {
   "cell_type": "markdown",
   "metadata": {},
   "source": [
    "Plot results"
   ]
  },
  {
   "cell_type": "code",
   "execution_count": 13,
   "metadata": {
    "collapsed": false
   },
   "outputs": [
    {
     "name": "stderr",
     "output_type": "stream",
     "text": [
      "/home/alexey/anaconda3/lib/python3.4/site-packages/matplotlib/collections.py:590: FutureWarning: elementwise comparison failed; returning scalar instead, but in the future will perform elementwise comparison\n",
      "  if self._edgecolors == str('face'):\n"
     ]
    },
    {
     "data": {
      "image/png": "[encoded data removed]",
      "text/plain": [
       "<matplotlib.figure.Figure at 0x7f6edeba3470>"
      ]
     },
     "metadata": {},
     "output_type": "display_data"
    }
   ],
   "source": [
    "plot_quality(grid_searcher, 'n_neighbors')"
   ]
  },
  {
   "cell_type": "markdown",
   "metadata": {},
   "source": [
    "Save the results in the proper format"
   ]
  },
  {
   "cell_type": "code",
   "execution_count": 16,
   "metadata": {
    "collapsed": false
   },
   "outputs": [],
   "source": [
    "clf = grid_searcher.best_estimator_.fit(X_train, y_train)\n",
    "results = clf.predict_proba(X_test)[:, 1]\n",
    "f = open('y.test.csv', 'w')\n",
    "print('Id,Prediction', file=f)\n",
    "for i, result in enumerate(results):\n",
    "    print(str(i+1) + ',' + str(result), file=f)\n",
    "f.close()"
   ]
  },
  {
   "cell_type": "markdown",
   "metadata": {},
   "source": [
    "# My code"
   ]
  },
  {
   "cell_type": "markdown",
   "metadata": {},
   "source": [
    "Отмасштабируем данные"
   ]
  },
  {
   "cell_type": "code",
   "execution_count": 83,
   "metadata": {
    "collapsed": true
   },
   "outputs": [],
   "source": [
    "from sklearn.preprocessing import scale\n",
    "X_train_scaled = scale(X_train, with_mean = True, with_std=True, axis=0)\n",
    "X_test_scaled = scale(X_test, with_mean = True, with_std=True, axis=0)"
   ]
  },
  {
   "cell_type": "markdown",
   "metadata": {},
   "source": [
    "Посмотрим, как выглядят наши данные в проекции на разные плоскости из двух признаков"
   ]
  },
  {
   "cell_type": "code",
   "execution_count": 104,
   "metadata": {
    "collapsed": true
   },
   "outputs": [],
   "source": [
    "c = [\"blue\", \"red\"]\n",
    "colors = [c[y_train[i]] for i in range(len(y_train))]"
   ]
  },
  {
   "cell_type": "code",
   "execution_count": 187,
   "metadata": {
    "collapsed": false,
    "scrolled": false
   },
   "outputs": [
    {
     "name": "stderr",
     "output_type": "stream",
     "text": [
      "/home/alexey/anaconda3/lib/python3.4/site-packages/matplotlib/collections.py:590: FutureWarning: elementwise comparison failed; returning scalar instead, but in the future will perform elementwise comparison\n",
      "  if self._edgecolors == str('face'):\n"
     ]
    },
    {
     "data": {
      "image/png": "[encoded data removed]",
      "text/plain": [
       "<matplotlib.figure.Figure at 0x7f6ecc98ce80>"
      ]
     },
     "metadata": {},
     "output_type": "display_data"
    }
   ],
   "source": [
    "figure(figsize=(14,7))\n",
    "U = X_train_scaled\n",
    "\n",
    "for i in range(2):\n",
    "    first = np.random.randint(6 * 6 * 6)\n",
    "    second = np.random.randint(6 * 6 * 6)    \n",
    "    subplot(1, 2, 1 + i), scatter(U[:, first], U[:, second], c=colors), \\\n",
    "        grid(True), xlabel('#{}'.format(first)), ylabel('#{}'.format(second))"
   ]
  },
  {
   "cell_type": "markdown",
   "metadata": {},
   "source": [
    "Иногда проскакивают такие пары признаков, в которых хорошо отделяются синие от красных. "
   ]
  },
  {
   "cell_type": "markdown",
   "metadata": {},
   "source": [
    "Можно посмотреть, насколько хорошо можно классифицировать по одному признаку. Эту хорошесть будем использовать как вес в метрике."
   ]
  },
  {
   "cell_type": "code",
   "execution_count": 276,
   "metadata": {
    "collapsed": false
   },
   "outputs": [
    {
     "name": "stdout",
     "output_type": "stream",
     "text": [
      "[ 0.69391854  0.61903088  0.74847746  0.735872    0.57884396  0.74793331\n",
      "  0.56602775  0.64323437  0.51354378  0.67421866  0.55941901  0.6716773\n",
      "  0.73162657  0.52802281  0.74943718  0.84327982  0.56194893  0.86995215\n",
      "  0.7784237   0.67001899  0.73528208  0.61394825  0.50896563  0.6326441\n",
      "  0.54829465  0.69573473  0.55968733  0.68047702  0.64950255  0.61392139\n",
      "  0.81271517  0.51991813  0.75783938  0.8709474   0.66074852  0.77899669\n",
      "  0.56165267  0.55077278  0.52003639  0.71386044  0.82435843  0.57406216\n",
      "  0.75135049  0.72459903  0.76692467  0.68210097  0.78287112  0.63192675\n",
      "  0.68334622  0.67515165  0.61129063  0.7304174   0.86617062  0.52019713\n",
      "  0.59053708  0.62005497  0.5288269   0.48982284  0.64662856  0.58394711\n",
      "  0.60427998  0.6654391   0.6203913   0.80381884  0.80693025  0.64076038\n",
      "  0.60091025  0.63661532  0.51493693  0.53782672  0.61544596  0.58389837\n",
      "  0.66356537  0.5529239   0.73256031  0.57282092  0.63276178  0.80460176\n",
      "  0.51830017  0.69863932  0.6152046   0.50888406  0.67809461  0.52417314\n",
      "  0.65499475  0.53233127  0.63287464  0.6433535   0.68173396  0.82797474\n",
      "  0.79109753  0.62612964  0.69501059  0.54329038  0.60985266  0.74431602\n",
      "  0.5556174   0.74295686  0.55947726  0.83732848  0.82803398  0.65261305\n",
      "  0.85694519  0.54041588  0.78768337  0.82787493  0.53281147  0.79374914\n",
      "  0.83388868  0.53063649  0.81274263  0.77833758  0.57564446  0.83183941\n",
      "  0.69693865  0.76305697  0.79766129  0.50318694  0.74516467  0.5242158\n",
      "  0.73554092  0.5685675   0.66181164  0.63987044  0.69908023  0.83242528\n",
      "  0.80422174  0.72572851  0.54254374  0.59764468  0.52758152  0.62975885\n",
      "  0.5978916   0.71652523  0.54756682  0.57198191  0.656442    0.5418722\n",
      "  0.76131508  0.69692706  0.58779442  0.74129119  0.55876575  0.66578554\n",
      "  0.54368371  0.61702374  0.56702156  0.52500976  0.54009971  0.53371116\n",
      "  0.61921767  0.83995264  0.79869801  0.60975939  0.67609584  0.65332331\n",
      "  0.54596807  0.69898056  0.52951246  0.51095065  0.5677591   0.53104718\n",
      "  0.54607987  0.88516222  0.75826914  0.67774862  0.619462    0.72307933\n",
      "  0.56328217  0.82920272  0.67575391  0.76286128  0.66928311  0.78455449\n",
      "  0.59687591  0.81791071  0.7006505   0.54828929  0.51209765  0.55002376\n",
      "  0.75827     0.69958509  0.88304165  0.7411809   0.55118243  0.82360896\n",
      "  0.63454839  0.64623465  0.70186258  0.56252627  0.69568023  0.50948926\n",
      "  0.64830546  0.55959556  0.7278533   0.68510262  0.71301846  0.82607205\n",
      "  0.87295481  0.54341379  0.83811602  0.71039407  0.58313854  0.7528872\n",
      "  0.63365951  0.49892181  0.64580217  0.50978646  0.61079959  0.56698413\n",
      "  0.7708907   0.55404305  0.73034949  0.75401323  0.57844752  0.69053074]\n"
     ]
    }
   ],
   "source": [
    "def index_weight(index):\n",
    "    params = {'n_neighbors': arange(1, 60, 5)}\n",
    "    grid_searcher = GridSearchCV(KNN(weights='uniform', metric='minkowski', p=1),\\\n",
    "                             params, cv=5, scoring='roc_auc', n_jobs=3)\n",
    "    grid_searcher.fit(X_train_scaled[:, [index]], y_train)\n",
    "    return grid_searcher.best_score_\n",
    "\n",
    "learned_weights = np.array([index_weight(index) for index in range(6*6*6)])\n",
    "\n",
    "print(learned_weights)"
   ]
  },
  {
   "cell_type": "markdown",
   "metadata": {},
   "source": [
    "А сейчас мы попробуем отыскать такие пары признаков, в которых можно хорошо классифицировать. То есть клеткой выше мы пытаемся классифицировать используя 1 признак, а здесь будем с помощью двух."
   ]
  },
  {
   "cell_type": "code",
   "execution_count": 287,
   "metadata": {
    "collapsed": false
   },
   "outputs": [],
   "source": [
    "def pair_weight(first, second):\n",
    "    params = {'n_neighbors': arange(1, 60, 5)}\n",
    "    grid_searcher = GridSearchCV(KNN(weights='uniform', metric='minkowski', p=1),\\\n",
    "                             params, cv=5, scoring='roc_auc', n_jobs=3)\n",
    "    grid_searcher.fit(X_train_scaled[:, [first, second]], y_train)\n",
    "    return grid_searcher.best_score_\n",
    "\n",
    "pair_weights = np.array([[0 if second >= first else pair_weight(first, second)\\\n",
    "                          for second in range(6*6*6)]\\\n",
    "                          for first in range(6*6*6)])"
   ]
  },
  {
   "cell_type": "code",
   "execution_count": 294,
   "metadata": {
    "collapsed": false
   },
   "outputs": [],
   "source": [
    "f = open('pair_weights.csv', 'w')\n",
    "\n",
    "for i in range(6*6*6):\n",
    "    print(*pair_weights[i, :], sep=', ', file=f)\n",
    "    "
   ]
  },
  {
   "cell_type": "code",
   "execution_count": 301,
   "metadata": {
    "collapsed": false
   },
   "outputs": [
    {
     "name": "stdout",
     "output_type": "stream",
     "text": [
      "(46656, 2)\n",
      "[[163 102]\n",
      " [182 125]\n",
      " [200 102]\n",
      " ..., \n",
      " [ 71 116]\n",
      " [ 71 118]\n",
      " [215 215]]\n",
      "[ 0.94049177  0.93016604  0.92922698  0.92729687  0.92690244  0.92657915\n",
      "  0.92554773  0.92525031  0.92516381  0.92415575]\n"
     ]
    }
   ],
   "source": [
    "ordered_arg = np.argsort(-pair_weights, axis=None)\n",
    "\n",
    "ordered_arg = np.array([[number // (6*6*6), number % (6*6*6)] for number in ordered_arg])\n",
    "\n",
    "print(ordered_arg.shape)\n",
    "print(ordered_arg)\n",
    "print(pair_weights[ordered_arg[:10, 0], ordered_arg[:10, 1]])"
   ]
  },
  {
   "cell_type": "code",
   "execution_count": 390,
   "metadata": {
    "collapsed": false
   },
   "outputs": [
    {
     "data": {
      "text/plain": [
       "0.62651693335471115"
      ]
     },
     "execution_count": 390,
     "metadata": {},
     "output_type": "execute_result"
    }
   ],
   "source": [
    "pair_weights[ordered_arg[20000, 0], ordered_arg[20000, 1]]"
   ]
  },
  {
   "cell_type": "markdown",
   "metadata": {},
   "source": [
    "Уберём из рассмотрения плохие признаки, используя порог на хорошесть. Веса оставшихся признаков немного растянем."
   ]
  },
  {
   "cell_type": "code",
   "execution_count": 351,
   "metadata": {
    "collapsed": false
   },
   "outputs": [
    {
     "name": "stdout",
     "output_type": "stream",
     "text": [
      "42\n"
     ]
    }
   ],
   "source": [
    "number_of_pairs = 100\n",
    "good_features = unique(ordered_arg[:number_of_pairs].reshape(number_of_pairs * 2))\n",
    "print(len(good_features))\n",
    "metric_weights = np.zeros(6*6*6)\n",
    "metric_weights[good_features] = 1"
   ]
  },
  {
   "cell_type": "code",
   "execution_count": 401,
   "metadata": {
    "collapsed": false
   },
   "outputs": [],
   "source": [
    "def make_metric_weights_from_pair(treshold, power):\n",
    "    metric_weights = np.zeros(6*6*6)\n",
    "\n",
    "    for i in range(6*6*6):\n",
    "        for j in range(i):\n",
    "            addition = pow(max(pair_weights[i, j] - treshold, 0), power)\n",
    "            metric_weights[i] += addition \n",
    "            metric_weights[j] += addition\n",
    "    \n",
    "    return metric_weights"
   ]
  },
  {
   "cell_type": "code",
   "execution_count": 460,
   "metadata": {
    "collapsed": false
   },
   "outputs": [
    {
     "name": "stdout",
     "output_type": "stream",
     "text": [
      "10.1307749694\n",
      "81.2181197103\n",
      "27.6507529145\n"
     ]
    }
   ],
   "source": [
    "pair_treshold = 0.75\n",
    "pair_power = 0.5\n",
    "metric_weights = make_metric_weights_from_pair(pair_treshold, pair_power)\n",
    "\n",
    "print(min(metric_weights))\n",
    "print(max(metric_weights))\n",
    "print(mean(metric_weights))\n",
    "#metric_weights -= mean(metric_weights)\n",
    "#metric_weights[metric_weights < 0] = 0"
   ]
  },
  {
   "cell_type": "code",
   "execution_count": 422,
   "metadata": {
    "collapsed": false
   },
   "outputs": [],
   "source": [
    "def make_metric_weights(treshold, power):\n",
    "    \n",
    "    metric_weights = learned_weights - treshold\n",
    "    metric_weights[learned_weights < treshold] = 0\n",
    "    metric_weights = pow(metric_weights, power)\n",
    "    \n",
    "    return metric_weights"
   ]
  },
  {
   "cell_type": "code",
   "execution_count": 463,
   "metadata": {
    "collapsed": false
   },
   "outputs": [
    {
     "name": "stdout",
     "output_type": "stream",
     "text": [
      "2.61166130939\n",
      "116.281022308\n",
      "31.5152791545\n"
     ]
    }
   ],
   "source": [
    "treshold = 0.6\n",
    "power = 1\n",
    "pair_treshold = 0.75\n",
    "pair_power = 1\n",
    "\n",
    "metric_weights = make_metric_weights_from_pair(pair_treshold, pair_power) + 300 * make_metric_weights(treshold, power)\n",
    "\n",
    "print(min(metric_weights))\n",
    "print(max(metric_weights))\n",
    "print(mean(metric_weights))"
   ]
  },
  {
   "cell_type": "code",
   "execution_count": 470,
   "metadata": {
    "collapsed": false
   },
   "outputs": [
    {
     "name": "stdout",
     "output_type": "stream",
     "text": [
      "0.966012509219\n",
      "KNeighborsClassifier(algorithm='auto', leaf_size=30, metric='wminkowski',\n",
      "           metric_params={'w': array([ 33.77909,   9.39609, ...,   3.20221,  32.31026])},\n",
      "           n_neighbors=20, p=1, weights='distance')\n"
     ]
    }
   ],
   "source": [
    "params = {'n_neighbors': arange(10, 100, 5),\\\n",
    "          #'metric_params': \n",
    "          #    [{'w': make_metric_weights(treshold, power)} \\\n",
    "          #     for treshold, power in product(arange(0.5, 0.88, 0.01), [1, 2])]\\\n",
    "          }\n",
    "grid_searcher = GridSearchCV(KNN(weights='distance', metric='wminkowski', p=1, w=metric_weights),\\\n",
    "                             params, cv=5, scoring='roc_auc', n_jobs=3)\n",
    "grid_searcher.fit(X_train_scaled, y_train)\n",
    "\n",
    "print(grid_searcher.best_score_)\n",
    "print(grid_searcher.best_estimator_)"
   ]
  },
  {
   "cell_type": "code",
   "execution_count": 471,
   "metadata": {
    "collapsed": false,
    "scrolled": false
   },
   "outputs": [
    {
     "name": "stderr",
     "output_type": "stream",
     "text": [
      "/home/alexey/anaconda3/lib/python3.4/site-packages/matplotlib/collections.py:590: FutureWarning: elementwise comparison failed; returning scalar instead, but in the future will perform elementwise comparison\n",
      "  if self._edgecolors == str('face'):\n"
     ]
    },
    {
     "data": {
      "image/png": "[encoded data removed]",
      "text/plain": [
       "<matplotlib.figure.Figure at 0x7f6ececca1d0>"
      ]
     },
     "metadata": {},
     "output_type": "display_data"
    }
   ],
   "source": [
    "plot_quality(grid_searcher, 'n_neighbors')"
   ]
  },
  {
   "cell_type": "code",
   "execution_count": 472,
   "metadata": {
    "collapsed": false
   },
   "outputs": [],
   "source": [
    "clf = grid_searcher.best_estimator_.fit(X_train_scaled, y_train)\n",
    "\n",
    "results = clf.predict_proba(X_test_scaled)[:, 1]\n",
    "f = open('y.test.csv', 'w')\n",
    "print('Id,Prediction', file=f)\n",
    "for i, result in enumerate(results):\n",
    "    print(str(i+1) + ',' + str(result), file=f)\n",
    "f.close()"
   ]
  },
  {
   "cell_type": "code",
   "execution_count": null,
   "metadata": {
    "collapsed": true
   },
   "outputs": [],
   "source": []
  }
 ],
 "metadata": {
  "kernelspec": {
   "display_name": "Python 3",
   "language": "python",
   "name": "python3"
  },
  "language_info": {
   "codemirror_mode": {
    "name": "ipython",
    "version": 3
   },
   "file_extension": ".py",
   "mimetype": "text/x-python",
   "name": "python",
   "nbconvert_exporter": "python",
   "pygments_lexer": "ipython3",
   "version": "3.4.3"
  }
 },
 "nbformat": 4,
 "nbformat_minor": 0
}
